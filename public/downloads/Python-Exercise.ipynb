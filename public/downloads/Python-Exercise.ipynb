{
 "cells": [
  {
   "cell_type": "markdown",
   "id": "758d0e1b",
   "metadata": {},
   "source": [
    "# Python Exercise"
   ]
  },
  {
   "cell_type": "markdown",
   "id": "65653ef5-1f36-496a-9b23-d9a6d065beff",
   "metadata": {},
   "source": [
    "## Philip Vishnevsky"
   ]
  },
  {
   "cell_type": "markdown",
   "id": "8c9ffcb0",
   "metadata": {},
   "source": [
    "Python can be downloaded [here](https://www.python.org/downloads/) and documentation can be viewed [here](https://docs.python.org/3/).  \n",
    "  \n",
    "Python is an \"interpreted high-level general-purpose programming language\" ([Wikipedia](https://en.wikipedia.org/wiki/Python_(programming_language))). The fact that it is an interpreted language means that the source code we write is converted into machine code line by line, rather than all at once. More on this can be read [here](https://pediaa.com/what-is-the-difference-between-interpreted-and-compiled-language/#:~:text=Difference%20Between%20Interpreted%20and%20Compiled%20Language%201%20Definition.,Functionality.%20...%203%20Languages.%20...%204%20Conclusion.%20). Python is object-oriented, dynamically typed (a variable's data type can change), and white space dependent (can't mess up the tab spaces or things will break!).\n",
    "\n",
    "When submitting this file to Canvas, submit both the **.ipynb** (notebook file) and **html** file versions. To download the **html** version, click *File > Download as > HTML (.html)*. We will be checking for completion as  a part of your participation. The solution to this file will then be posted for you to check."
   ]
  },
  {
   "cell_type": "markdown",
   "id": "4c380761",
   "metadata": {},
   "source": [
    "<img src=\"\n",
    "https://c.tenor.com/4M_drLvIxWcAAAAC/snake-gentleman.gif\" alt=\"drawing\" width=\"200\"/>"
   ]
  },
  {
   "cell_type": "markdown",
   "id": "bb577af1",
   "metadata": {},
   "source": [
    "<hr>"
   ]
  },
  {
   "cell_type": "markdown",
   "id": "46dde06f",
   "metadata": {},
   "source": [
    "## 1. Print hello world :)"
   ]
  },
  {
   "cell_type": "code",
   "execution_count": 7,
   "id": "9440837b",
   "metadata": {},
   "outputs": [
    {
     "name": "stdout",
     "output_type": "stream",
     "text": [
      "Hello, World!\n"
     ]
    }
   ],
   "source": [
    "print(\"Hello, World!\")"
   ]
  },
  {
   "cell_type": "markdown",
   "id": "f81f2776",
   "metadata": {},
   "source": [
    "<hr>"
   ]
  },
  {
   "cell_type": "markdown",
   "id": "c142b76d",
   "metadata": {},
   "source": [
    "## 2. Read in two values (user input), convert to integers, and then print the sum"
   ]
  },
  {
   "cell_type": "code",
   "execution_count": 10,
   "id": "dc65397d",
   "metadata": {},
   "outputs": [
    {
     "name": "stdout",
     "output_type": "stream",
     "text": [
      " 12\n"
     ]
    }
   ],
   "source": [
    "a = int(input())"
   ]
  },
  {
   "cell_type": "code",
   "execution_count": 11,
   "id": "0e3b57fb",
   "metadata": {},
   "outputs": [
    {
     "name": "stdout",
     "output_type": "stream",
     "text": [
      " 30\n"
     ]
    }
   ],
   "source": [
    "b = int(input())"
   ]
  },
  {
   "cell_type": "code",
   "execution_count": 12,
   "id": "1a24e149",
   "metadata": {},
   "outputs": [
    {
     "name": "stdout",
     "output_type": "stream",
     "text": [
      "42\n"
     ]
    }
   ],
   "source": [
    "print(a + b)"
   ]
  },
  {
   "cell_type": "markdown",
   "id": "bf4bbf5f",
   "metadata": {},
   "source": [
    "Note: `type(variable)` lets you check the data type of `variable`."
   ]
  },
  {
   "cell_type": "code",
   "execution_count": 14,
   "id": "8aa2af92",
   "metadata": {},
   "outputs": [
    {
     "data": {
      "text/plain": [
       "int"
      ]
     },
     "execution_count": 14,
     "metadata": {},
     "output_type": "execute_result"
    }
   ],
   "source": [
    "type(a)"
   ]
  },
  {
   "cell_type": "markdown",
   "id": "6ace76bd",
   "metadata": {},
   "source": [
    "Note: In jupyter notebooks, you can also display values without the `print` (shown below)."
   ]
  },
  {
   "cell_type": "code",
   "execution_count": 16,
   "id": "199f5257",
   "metadata": {},
   "outputs": [
    {
     "data": {
      "text/plain": [
       "42"
      ]
     },
     "execution_count": 16,
     "metadata": {},
     "output_type": "execute_result"
    }
   ],
   "source": [
    "a + b"
   ]
  },
  {
   "cell_type": "markdown",
   "id": "4ca79145",
   "metadata": {},
   "source": [
    "**Question: What prints if you don't convert to integers first?**"
   ]
  },
  {
   "cell_type": "markdown",
   "id": "4ac9c5a0-4296-48ae-bc39-7900184c41d0",
   "metadata": {},
   "source": [
    "A string"
   ]
  },
  {
   "cell_type": "markdown",
   "id": "c8ef561e",
   "metadata": {},
   "source": [
    "<hr>"
   ]
  },
  {
   "cell_type": "markdown",
   "id": "e9cd2a33",
   "metadata": {},
   "source": [
    "## 3. Create a function called \"search\""
   ]
  },
  {
   "cell_type": "markdown",
   "id": "5d4e489d",
   "metadata": {},
   "source": [
    "This function should take in two string values (let's call them `a` and `b`). Both `a` and `b` should be set to all lowercase. Then search for the substring `b` in `a`. It should return the index of the found substring, or -1 if not found."
   ]
  },
  {
   "cell_type": "code",
   "execution_count": 22,
   "id": "d62ecf6c",
   "metadata": {},
   "outputs": [],
   "source": [
    "def search(a, b):\n",
    "    a = a.lower()\n",
    "    b = b.lower()\n",
    "    return a.find(b)"
   ]
  },
  {
   "cell_type": "markdown",
   "id": "3c041540",
   "metadata": {},
   "source": [
    "Here are some examples to test:"
   ]
  },
  {
   "cell_type": "code",
   "execution_count": 24,
   "id": "d7ffba15",
   "metadata": {},
   "outputs": [
    {
     "data": {
      "text/plain": [
       "0"
      ]
     },
     "execution_count": 24,
     "metadata": {},
     "output_type": "execute_result"
    }
   ],
   "source": [
    "search('Hello world', 'hello')"
   ]
  },
  {
   "cell_type": "code",
   "execution_count": 25,
   "id": "38d01def",
   "metadata": {},
   "outputs": [
    {
     "data": {
      "text/plain": [
       "6"
      ]
     },
     "execution_count": 25,
     "metadata": {},
     "output_type": "execute_result"
    }
   ],
   "source": [
    "search('Hello world', 'WoRlD')"
   ]
  },
  {
   "cell_type": "code",
   "execution_count": 26,
   "id": "59644814",
   "metadata": {},
   "outputs": [
    {
     "data": {
      "text/plain": [
       "5"
      ]
     },
     "execution_count": 26,
     "metadata": {},
     "output_type": "execute_result"
    }
   ],
   "source": [
    "search('Hello world', ' ')"
   ]
  },
  {
   "cell_type": "markdown",
   "id": "55f9e84b",
   "metadata": {},
   "source": [
    "<hr>"
   ]
  },
  {
   "cell_type": "markdown",
   "id": "cdc90dc8",
   "metadata": {},
   "source": [
    "## 4. Working with lists"
   ]
  },
  {
   "cell_type": "code",
   "execution_count": 29,
   "id": "646d480d",
   "metadata": {},
   "outputs": [],
   "source": [
    "food = ['ramen', 'potato', 'chicken nuggets', 'pineapple']"
   ]
  },
  {
   "cell_type": "markdown",
   "id": "18084bc9",
   "metadata": {},
   "source": [
    "**4a. Print the 2nd item.**"
   ]
  },
  {
   "cell_type": "code",
   "execution_count": 31,
   "id": "5cb7f780",
   "metadata": {},
   "outputs": [
    {
     "name": "stdout",
     "output_type": "stream",
     "text": [
      "potato\n"
     ]
    }
   ],
   "source": [
    "print(food[1])"
   ]
  },
  {
   "cell_type": "markdown",
   "id": "26461924",
   "metadata": {},
   "source": [
    "**4b. Change 'potato' to another food (and print the whole list to check).**"
   ]
  },
  {
   "cell_type": "code",
   "execution_count": 33,
   "id": "f0033a83",
   "metadata": {},
   "outputs": [
    {
     "name": "stdout",
     "output_type": "stream",
     "text": [
      "['ramen', 'pizza', 'chicken nuggets', 'pineapple']\n"
     ]
    }
   ],
   "source": [
    "food[1] = 'pizza'\n",
    "print(food)"
   ]
  },
  {
   "cell_type": "markdown",
   "id": "a47fe7fe",
   "metadata": {},
   "source": [
    "**4c. Add a new food item to the end of the list.**"
   ]
  },
  {
   "cell_type": "code",
   "execution_count": 35,
   "id": "e4ecb664",
   "metadata": {},
   "outputs": [
    {
     "name": "stdout",
     "output_type": "stream",
     "text": [
      "['ramen', 'pizza', 'chicken nuggets', 'pineapple', 'cake']\n"
     ]
    }
   ],
   "source": [
    "food.append('cake')\n",
    "print(food)"
   ]
  },
  {
   "cell_type": "markdown",
   "id": "b319f26c",
   "metadata": {},
   "source": [
    "**4d. Use slicing to view the 3rd to last items of the list.**"
   ]
  },
  {
   "cell_type": "code",
   "execution_count": 37,
   "id": "a73d9806",
   "metadata": {},
   "outputs": [
    {
     "name": "stdout",
     "output_type": "stream",
     "text": [
      "['chicken nuggets', 'pineapple', 'cake']\n"
     ]
    }
   ],
   "source": [
    "print(food[2:])"
   ]
  },
  {
   "cell_type": "markdown",
   "id": "e4c8341c",
   "metadata": {},
   "source": [
    "**4e. Reverse the list!**"
   ]
  },
  {
   "cell_type": "code",
   "execution_count": 39,
   "id": "c8439527",
   "metadata": {},
   "outputs": [
    {
     "name": "stdout",
     "output_type": "stream",
     "text": [
      "['cake', 'pineapple', 'chicken nuggets', 'pizza', 'ramen']\n"
     ]
    }
   ],
   "source": [
    "food.reverse()\n",
    "print(food)"
   ]
  },
  {
   "cell_type": "markdown",
   "id": "6b63288a",
   "metadata": {},
   "source": [
    "**4f. List comprehension**"
   ]
  },
  {
   "cell_type": "markdown",
   "id": "296313de",
   "metadata": {},
   "source": [
    "List comprehension allows you to make a new list by performing some operation on each item of an existing list. You can read more about it [here](https://www.tutorialsteacher.com/python/python-list-comprehension#:~:text=List%20comprehension%20in%20Python%20is%20an%20easy%20and,than%20processing%20a%20list%20using%20the%20for%20loop.)."
   ]
  },
  {
   "cell_type": "markdown",
   "id": "374543e9",
   "metadata": {},
   "source": [
    "Use list comprehension to create a new list of all the foods in the `food` list that contain the letter `e`."
   ]
  },
  {
   "cell_type": "code",
   "execution_count": 43,
   "id": "07fddda9",
   "metadata": {},
   "outputs": [],
   "source": [
    "e_foods = [f for f in food if 'e' in f]"
   ]
  },
  {
   "cell_type": "code",
   "execution_count": 44,
   "id": "efb81975-a0fd-45de-8316-0de1beb0c70e",
   "metadata": {},
   "outputs": [
    {
     "name": "stdout",
     "output_type": "stream",
     "text": [
      "['cake', 'pineapple', 'chicken nuggets', 'ramen']\n"
     ]
    }
   ],
   "source": [
    "print(e_foods)"
   ]
  },
  {
   "cell_type": "markdown",
   "id": "a97602e3",
   "metadata": {},
   "source": [
    "<hr>"
   ]
  },
  {
   "cell_type": "markdown",
   "id": "3f518e22",
   "metadata": {},
   "source": [
    "## 5. Working with dictionaries"
   ]
  },
  {
   "cell_type": "markdown",
   "id": "02158b97",
   "metadata": {},
   "source": [
    "[Here](https://www.w3schools.com/python/python_dictionaries.asp) is a reference on dictionaries."
   ]
  },
  {
   "cell_type": "code",
   "execution_count": 48,
   "id": "526442c3",
   "metadata": {},
   "outputs": [],
   "source": [
    "pokemon = {\n",
    "    \"name\": \"bulbasaur\",\n",
    "    \"nickname\": \"potato\",\n",
    "    \"shiny\": False\n",
    "}"
   ]
  },
  {
   "cell_type": "markdown",
   "id": "b9e4fa8d",
   "metadata": {},
   "source": [
    "**5a. Print the `name`.**"
   ]
  },
  {
   "cell_type": "code",
   "execution_count": 50,
   "id": "57f591a2",
   "metadata": {},
   "outputs": [
    {
     "name": "stdout",
     "output_type": "stream",
     "text": [
      "bulbasaur\n"
     ]
    }
   ],
   "source": [
    "print(pokemon[\"name\"])"
   ]
  },
  {
   "cell_type": "markdown",
   "id": "d6f1c4b6",
   "metadata": {},
   "source": [
    "**5b. Change the value of `nickname` from `potato` to something else.**"
   ]
  },
  {
   "cell_type": "code",
   "execution_count": 52,
   "id": "93538cf5",
   "metadata": {},
   "outputs": [
    {
     "name": "stdout",
     "output_type": "stream",
     "text": [
      "tomato\n"
     ]
    }
   ],
   "source": [
    "pokemon[\"name\"] = \"tomato\"\n",
    "print(pokemon[\"name\"])"
   ]
  },
  {
   "cell_type": "markdown",
   "id": "612f92a4",
   "metadata": {},
   "source": [
    "**5c. Add the key, value pair `\"type\" : \"grass\"` to the dictionary.**"
   ]
  },
  {
   "cell_type": "code",
   "execution_count": 54,
   "id": "fabfde19",
   "metadata": {},
   "outputs": [
    {
     "name": "stdout",
     "output_type": "stream",
     "text": [
      "{'name': 'tomato', 'nickname': 'potato', 'shiny': False, 'type': 'grass'}\n"
     ]
    }
   ],
   "source": [
    "pokemon[\"type\"] = \"grass\"\n",
    "print(pokemon)"
   ]
  },
  {
   "cell_type": "markdown",
   "id": "1cb4611d",
   "metadata": {},
   "source": [
    "<hr>"
   ]
  },
  {
   "cell_type": "markdown",
   "id": "072b9ad4",
   "metadata": {},
   "source": [
    "## 6. Loops and If Statements"
   ]
  },
  {
   "cell_type": "markdown",
   "id": "d31005ea",
   "metadata": {},
   "source": [
    "**6a. Use the `range` function to loop through `numbers` and print each one.**"
   ]
  },
  {
   "cell_type": "markdown",
   "id": "1022e683",
   "metadata": {},
   "source": [
    "Note: Should iterate between a range of 0 and the length of `numbers`"
   ]
  },
  {
   "cell_type": "code",
   "execution_count": 59,
   "id": "64d49dcc",
   "metadata": {},
   "outputs": [],
   "source": [
    "numbers = [1, 2, 3, 4, 5]"
   ]
  },
  {
   "cell_type": "code",
   "execution_count": 60,
   "id": "ab4a9e41",
   "metadata": {},
   "outputs": [
    {
     "name": "stdout",
     "output_type": "stream",
     "text": [
      "1\n",
      "2\n",
      "3\n",
      "4\n",
      "5\n"
     ]
    }
   ],
   "source": [
    "for i in range(0, len(numbers)):\n",
    "    print(numbers[i])"
   ]
  },
  {
   "cell_type": "markdown",
   "id": "5522bb85",
   "metadata": {},
   "source": [
    "**6b. Loop through `potato_weights` and print `yum` if it is larger than `0.7`**"
   ]
  },
  {
   "cell_type": "code",
   "execution_count": 62,
   "id": "9e02a78e",
   "metadata": {},
   "outputs": [],
   "source": [
    "potato_weights = [0.32, 0.53, 1.2, 0.21, 0.36, 0.72, 0.12, 0.23, 0.83, 0.91, 0.56]"
   ]
  },
  {
   "cell_type": "code",
   "execution_count": 63,
   "id": "d13b269f",
   "metadata": {},
   "outputs": [
    {
     "name": "stdout",
     "output_type": "stream",
     "text": [
      "yum\n",
      "yum\n",
      "yum\n",
      "yum\n"
     ]
    }
   ],
   "source": [
    "for i in range(0, len(potato_weights)):\n",
    "    if potato_weights[i] > 0.7:\n",
    "        print(\"yum\")"
   ]
  },
  {
   "cell_type": "markdown",
   "id": "55f168e6",
   "metadata": {},
   "source": [
    "**6c. Loop through and print each value of `potato_weights` until it is less than `0.2`.**"
   ]
  },
  {
   "cell_type": "markdown",
   "id": "f9e34755",
   "metadata": {},
   "source": [
    "There are multiple ways to do this (this is not the only possible answer)."
   ]
  },
  {
   "cell_type": "code",
   "execution_count": 66,
   "id": "d98be024",
   "metadata": {},
   "outputs": [
    {
     "name": "stdout",
     "output_type": "stream",
     "text": [
      "0.32\n",
      "0.53\n",
      "1.2\n",
      "0.21\n",
      "0.36\n",
      "0.72\n"
     ]
    }
   ],
   "source": [
    "for i in range(0, len(potato_weights)):\n",
    "    if potato_weights[i] < 0.2: \n",
    "        break \n",
    "    else: \n",
    "        print(potato_weights[i])"
   ]
  },
  {
   "cell_type": "markdown",
   "id": "0451b758",
   "metadata": {},
   "source": [
    "<hr>"
   ]
  },
  {
   "cell_type": "markdown",
   "id": "901c4c42",
   "metadata": {},
   "source": [
    "## 7. Poisonous or edible?"
   ]
  },
  {
   "cell_type": "markdown",
   "id": "2c2a8e7e",
   "metadata": {},
   "source": [
    "Make a function that returns whether or not a given mushroom is edible or poisonous. Brainstorm some rules (e.g., if a mushroom is purple, then it is poisonous) with your group based on the mushroom information below. The `poisonous` attribute is given to help you come up with rules, but don't use this in the function itself.  \n",
    "\n",
    "\n",
    "Please note that this is all completely fake data. :)  "
   ]
  },
  {
   "cell_type": "markdown",
   "id": "6733e2c0",
   "metadata": {},
   "source": [
    "<img src=\"\n",
    "https://cdn.shopify.com/s/files/1/0043/8439/1239/products/Cortina-KeychainPlush_1024x1024@2x.jpg?v=1630692639\" alt=\"drawing\" width=\"200\"/>"
   ]
  },
  {
   "cell_type": "code",
   "execution_count": 71,
   "id": "d4d8e163",
   "metadata": {},
   "outputs": [],
   "source": [
    "mushrooms = {\n",
    "    0: {\"cap_diameter\": 15, \"cap_color\": \"purple\", \"stem_width\": 2, \"has_skull\":True, 'poisonous':True},\n",
    "    1: {\"cap_diameter\": 25, \"cap_color\": \"orange\", \"stem_width\": 5, \"has_skull\":True, 'poisonous':True},\n",
    "    2: {\"cap_diameter\": 3, \"cap_color\": \"green\", \"stem_width\": 6, \"has_skull\":False, 'poisonous':False},\n",
    "    3: {\"cap_diameter\": 8, \"cap_color\": \"green\", \"stem_width\": 3, \"has_skull\":False, 'poisonous':False},\n",
    "    4: {\"cap_diameter\": 55, \"cap_color\": \"green\", \"stem_width\": 35, \"has_skull\":False, 'poisonous':True},\n",
    "    5: {\"cap_diameter\": 7, \"cap_color\": \"purple\", \"stem_width\": 6, \"has_skull\":False, 'poisonous':True},\n",
    "    6: {\"cap_diameter\": 3, \"cap_color\": \"purple\", \"stem_width\": 8, \"has_skull\":True, 'poisonous':True},\n",
    "    7: {\"cap_diameter\": 35, \"cap_color\": \"green\", \"stem_width\": 4, \"has_skull\":False, 'poisonous':True},\n",
    "}"
   ]
  },
  {
   "cell_type": "markdown",
   "id": "1c46d251",
   "metadata": {},
   "source": [
    "Example: If we enter `mushrooms[0]` into our function, it should return that it is poisonous."
   ]
  },
  {
   "cell_type": "code",
   "execution_count": 73,
   "id": "af4ae986",
   "metadata": {},
   "outputs": [],
   "source": [
    "'''\n",
    "Facts:\n",
    "All purple mushrooms are poisonous\n",
    "All skull mushrooms are poisonous\n",
    "Mushrooms with a cap > 10 are poisonous\n",
    "'''\n",
    "\n",
    "def is_poisonous(mushroom):\n",
    "    if mushroom[\"cap_diameter\"] > 10: return True\n",
    "    if mushroom[\"has_skull\"]: return True\n",
    "    if mushroom[\"cap_color\"] == \"purple\": return True\n",
    "    return False\n",
    "    "
   ]
  },
  {
   "cell_type": "code",
   "execution_count": 74,
   "id": "87cd6a6c",
   "metadata": {},
   "outputs": [
    {
     "name": "stdout",
     "output_type": "stream",
     "text": [
      "mushrooms were correctly classified\n"
     ]
    }
   ],
   "source": [
    "try:\n",
    "    for i in range(0, len(mushrooms)):\n",
    "        assert mushrooms[i][\"poisonous\"] == is_poisonous(mushrooms[i])\n",
    "except:\n",
    "    print(\"mushrooms were INCORRECTLY classified\")\n",
    "else:\n",
    "    print(\"mushrooms were correctly classified\")"
   ]
  }
 ],
 "metadata": {
  "kernelspec": {
   "display_name": "Python 3 (ipykernel)",
   "language": "python",
   "name": "python3"
  },
  "language_info": {
   "codemirror_mode": {
    "name": "ipython",
    "version": 3
   },
   "file_extension": ".py",
   "mimetype": "text/x-python",
   "name": "python",
   "nbconvert_exporter": "python",
   "pygments_lexer": "ipython3",
   "version": "3.12.4"
  }
 },
 "nbformat": 4,
 "nbformat_minor": 5
}
